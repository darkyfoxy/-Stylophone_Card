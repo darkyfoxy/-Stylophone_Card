{
 "cells": [
  {
   "cell_type": "markdown",
   "id": "51217312",
   "metadata": {},
   "source": [
    "# Sample Generator"
   ]
  },
  {
   "cell_type": "markdown",
   "id": "11e70430",
   "metadata": {},
   "source": [
    "## Preparation"
   ]
  },
  {
   "cell_type": "code",
   "execution_count": null,
   "id": "722e5488",
   "metadata": {},
   "outputs": [],
   "source": [
    "#create full screen\n",
    "\n",
    "from IPython.display import display, HTML\n",
    "display(HTML(\"<style>.container { width:100% !important; }</style>\"))"
   ]
  },
  {
   "cell_type": "code",
   "execution_count": null,
   "id": "d4c720a3",
   "metadata": {},
   "outputs": [],
   "source": [
    "import numpy as np\n",
    "import matplotlib.pyplot as ptl\n",
    "from scipy.io import wavfile"
   ]
  },
  {
   "cell_type": "code",
   "execution_count": null,
   "id": "01ad8d21",
   "metadata": {},
   "outputs": [],
   "source": [
    "#name for notes\n",
    "note_names = ['A_m', 'Ash_m', 'B_m', 'C', 'Csh', 'D', 'Dsh', 'E', 'F', 'Fsh', 'G', 'Gsh', 'A', 'Ash', 'B', 'C_p', 'Csh_p', 'D_p', 'Dsh_p', 'E_p']\n",
    "\n",
    "#frequency for notes\n",
    "note_frequency_Hz = [220, 233.08, 246.94, 261.63, 277.18, 293.67, 311.13, 329.63, 349.23, 369.99, 392, 418.3, 440, 466.16, 493.88, 523.25, 554.36, 587.33, 622.26, 659.26]\n",
    "\n",
    "#name for styles\n",
    "# sin - sine wave\n",
    "# mndr - square wave\n",
    "# trin - sowtool wave\n",
    "# gitr - gitar samples\n",
    "note_form_style = ['sin', 'mndr', 'trin', 'gitr']\n",
    "\n",
    "#coefficient for the DOR register in a DAC.\n",
    "# DOR_K = 4096 / V_ref = 4096 / 3.3 = 1241.212121\n",
    "DOR_K = 1241.212121\n",
    "\n",
    "#sampling period (48000 - sampling frequency)\n",
    "time_step = 1/48000\n",
    "\n",
    "#time_step for exponent\n",
    "exp_step = 0.007"
   ]
  },
  {
   "cell_type": "code",
   "execution_count": null,
   "id": "dd689723",
   "metadata": {},
   "outputs": [],
   "source": [
    "#read the gitar sample\n",
    "samplerate, data = wavfile.read('./sampl1.wav')\n",
    "\n",
    "#gitar sample with interpolation\n",
    "interpolation_data = []\n",
    "old_sempl = 0\n",
    "\n",
    "#interpolation the gitar sample  \n",
    "for i in data:\n",
    "    full_sptep = i - old_sempl\n",
    "    step = round(full_sptep / 10)\n",
    "    if (step != 0):\n",
    "        interpolation_data += (list(range(old_sempl, i, step)))\n",
    "    else:\n",
    "        interpolation_data += ([i for x in range(1, 10)])\n",
    "    old_sempl = i"
   ]
  },
  {
   "cell_type": "code",
   "execution_count": null,
   "id": "7e98e427",
   "metadata": {},
   "outputs": [],
   "source": [
    "ptl.plot(interpolation_data)"
   ]
  },
  {
   "cell_type": "markdown",
   "id": "f8fdc29d",
   "metadata": {},
   "source": [
    "## Exponent calculation"
   ]
  },
  {
   "cell_type": "code",
   "execution_count": null,
   "id": "35e9f966",
   "metadata": {},
   "outputs": [],
   "source": [
    "def calc_exp_form (teme_step):\n",
    "    \n",
    "    '''function to calculate the exponent'''\n",
    "    \n",
    "    note_form = []\n",
    "    for t in range(0, 500):\n",
    "        note_form.append(round((1 / np.exp(teme_step * t)), 5))\n",
    "    return note_form"
   ]
  },
  {
   "cell_type": "code",
   "execution_count": null,
   "id": "057d79fe",
   "metadata": {},
   "outputs": [],
   "source": [
    "#print array with the exponent in C-format\n",
    "\n",
    "exp_fr = calc_exp_form(exp_step)\n",
    "\n",
    "print('const float EXPONENT [500] = {', end = '')\n",
    "\n",
    "for i, exp_s in enumerate(exp_fr):\n",
    "    temp_str = str(exp_s)\n",
    "    \n",
    "    spases = ',' + ' ' * (8 - len(temp_str))\n",
    "    \n",
    "    if ((i % 14) == 13):\n",
    "        spases = ',\\n' + ' ' * 30\n",
    "    \n",
    "    if (i == len(exp_fr)-1):\n",
    "        print(temp_str, end='};')\n",
    "    else:\n",
    "        print(temp_str, end=spases)"
   ]
  },
  {
   "cell_type": "code",
   "execution_count": null,
   "id": "5d76a16a",
   "metadata": {},
   "outputs": [],
   "source": [
    "ptl.plot(exp_fr)"
   ]
  },
  {
   "cell_type": "markdown",
   "id": "576fa215",
   "metadata": {},
   "source": [
    "## Calculating the sine for vibrato"
   ]
  },
  {
   "cell_type": "code",
   "execution_count": null,
   "id": "4ee981f7",
   "metadata": {},
   "outputs": [],
   "source": [
    "def calc_vibrato (note_freq, teme_step):\n",
    "    \n",
    "    '''function to calculate the sine for vibrato'''\n",
    "    \n",
    "    note_form = []\n",
    "    new_val = 0\n",
    "    old_val = 0\n",
    "    for t in np.arange(0, 1, time_step):\n",
    "        new_val = np.sin(np.pi * 2 * note_freq * t)\n",
    "        if (new_val >= 0 and old_val < 0):\n",
    "            return note_form\n",
    "        else:\n",
    "            note_form.append(new_val)\n",
    "            old_val = new_val\n",
    "    "
   ]
  },
  {
   "cell_type": "code",
   "execution_count": null,
   "id": "4f2a46e5",
   "metadata": {},
   "outputs": [],
   "source": [
    "#print array with the sine for vibrato in C-format\n",
    "\n",
    "vibrato_fr = (calc_vibrato(100, time_step)[:-1])\n",
    "vibrato_fr = np.multiply(vibrato_fr, 0.15)\n",
    "vibrato_fr = np.add(vibrato_fr, 0.8)\n",
    "\n",
    "print('const float vibrato [' + str(len(vibrato_fr)) + '] =  {', end = '')\n",
    "\n",
    "for i, vibrato_s in enumerate(vibrato_fr):\n",
    "    temp_str = str(round(vibrato_s, 5))\n",
    "    \n",
    "    spases = ',' + ' ' * (8 - len(temp_str))\n",
    "    \n",
    "    if ((i % 14) == 13):\n",
    "        spases = ',\\n' + ' ' * 30\n",
    "    \n",
    "    if (i == len(vibrato_fr)-1):\n",
    "        print(temp_str, end='};')\n",
    "    else:\n",
    "        print(temp_str, end=spases)"
   ]
  },
  {
   "cell_type": "code",
   "execution_count": null,
   "id": "8bb618a9",
   "metadata": {},
   "outputs": [],
   "source": [
    "ptl.plot(vibrato_fr)"
   ]
  },
  {
   "cell_type": "markdown",
   "id": "a100c295",
   "metadata": {},
   "source": [
    "## Calculating the sine wave"
   ]
  },
  {
   "cell_type": "code",
   "execution_count": null,
   "id": "b2435d48",
   "metadata": {},
   "outputs": [],
   "source": [
    "def print_form_note(note_name, note_form, note_form_style, size_tabs = 40, end = '\\n\\n'):\n",
    "    \n",
    "    '''function to print array in C-format'''\n",
    "    \n",
    "    data_type = \"const int16_t \"\n",
    "    define_form_string = data_type + note_name + '_form_' + note_form_style + ' [' + str(len(note_form)) + '] ='\n",
    "    temp = len(define_form_string)\n",
    "    define_form_string += ' ' * (size_tabs - temp - 1) + '{'\n",
    "    \n",
    "    print(define_form_string, end = '')\n",
    "    \n",
    "    for i, n in enumerate(note_form):\n",
    "        if (n >= 0):\n",
    "            if (n < 10):\n",
    "                spases = ',    '\n",
    "            elif (n < 100):\n",
    "                spases = ',   '\n",
    "            else:\n",
    "                spases = ',  '\n",
    "        else:\n",
    "            if (n > -10):\n",
    "                spases = ',   '\n",
    "            elif (n > -100):\n",
    "                spases = ',  '\n",
    "            else:\n",
    "                spases = ', '\n",
    "\n",
    "        if ((i % 20) == 19):\n",
    "            spases = ',\\n' + ' ' * size_tabs\n",
    "\n",
    "        if (i == len(note_form)-1):\n",
    "            print(n, end='};')\n",
    "        else:\n",
    "            print(n, end=spases)\n",
    "    \n",
    "    print(end, end = '')"
   ]
  },
  {
   "cell_type": "code",
   "execution_count": null,
   "id": "279d8678",
   "metadata": {},
   "outputs": [],
   "source": [
    "def calc_note_form_sin (note_mug, note_freq, DOR_K, teme_step):\n",
    "    \n",
    "    '''function to calculate the sine form for notes'''\n",
    "    \n",
    "    note_form = []\n",
    "    new_val = 0\n",
    "    old_val = 0\n",
    "    for t in np.arange(0, 0.01, time_step):\n",
    "        new_val = round(note_mug * np.sin(np.pi * 2 * note_freq * t) * DOR_K)\n",
    "        \n",
    "        if (new_val >= 0 and old_val < 0):\n",
    "            return note_form\n",
    "        else:\n",
    "            note_form.append(new_val)\n",
    "            old_val = new_val"
   ]
  },
  {
   "cell_type": "code",
   "execution_count": null,
   "id": "238cdf07",
   "metadata": {},
   "outputs": [],
   "source": [
    "#print array with the sine wave in C-format\n",
    "\n",
    "note_magnitude = [0.2, 0.2, 0.2, 0.2, 0.2, 0.2, 0.2, 0.2, 0.2, 0.2, 0.2, 0.2, 0.2, 0.2, 0.2, 0.2, 0.2, 0.2, 0.2, 0.2]\n",
    "sizes = []\n",
    "sin_nt_fm = []\n",
    "\n",
    "for n, m, f in zip(note_names, note_magnitude, note_frequency_Hz):\n",
    "    sin_nt_fm = calc_note_form_sin(m, f, DOR_K, time_step)\n",
    "    sizes.append(len(sin_nt_fm))\n",
    "    print_form_note(n, sin_nt_fm, note_form_style[0])\n",
    "    \n",
    "    \n",
    "print('const int16_t PAUSE_form_sin [30] = {0};' ,end = '\\n\\n')\n",
    "    \n",
    "\n",
    "\n",
    "for i, n in enumerate(note_names):\n",
    "    if (i == 0):\n",
    "        print('const int16_t *note_sin_table[21] =    {' + n + '_form_' + note_form_style[0] + ',')\n",
    "    else:\n",
    "        print(' ' * 40 + n + '_form_' + note_form_style[0] + ',')\n",
    "        \n",
    "print(' ' * 40 + 'PAUSE_form_sin};', end = '\\n\\n')\n",
    "\n",
    "sizes.append(30)\n",
    "\n",
    "temp_str = str(sizes)\n",
    "temp_str = temp_str.replace('[', '{')\n",
    "temp_str = temp_str.replace(']', '}')\n",
    "print('uint16_t note_form_' + note_form_style[0] +'_size[21] = ' + temp_str + ';')"
   ]
  },
  {
   "cell_type": "code",
   "execution_count": null,
   "id": "90c5411a",
   "metadata": {},
   "outputs": [],
   "source": [
    "ptl.plot(sin_nt_fm)"
   ]
  },
  {
   "cell_type": "markdown",
   "id": "1e66d239",
   "metadata": {},
   "source": [
    "## Calculating the square wave"
   ]
  },
  {
   "cell_type": "code",
   "execution_count": null,
   "id": "e39c5517",
   "metadata": {},
   "outputs": [],
   "source": [
    "def calc_note_form_mndr (note_mug, note_freq, DOR_K, teme_step):\n",
    "    \n",
    "    '''function to calculate the square form for notes'''\n",
    "    \n",
    "    note_form = []\n",
    "    new_val = 0\n",
    "    old_val = 0\n",
    "    for t in np.arange(0, 0.01, time_step):\n",
    "        new_val = round(note_mug * (1 if np.sin(np.pi * 2 * note_freq * t) >= 0 else -1) * DOR_K)\n",
    "        if (new_val >= 0 and old_val < 0):\n",
    "            return note_form\n",
    "        else:\n",
    "            note_form.append(new_val)\n",
    "            old_val = new_val"
   ]
  },
  {
   "cell_type": "code",
   "execution_count": null,
   "id": "654901d5",
   "metadata": {},
   "outputs": [],
   "source": [
    "#print array with the square wave in C-format\n",
    "\n",
    "note_magnitude = [0.15, 0.15, 0.15, 0.15, 0.15, 0.15, 0.15, 0.15, 0.15, 0.15, 0.15, 0.15, 0.15, 0.15, 0.15, 0.15, 0.15, 0.15, 0.15, 0.15]\n",
    "sizes = []\n",
    "mndr_nt_fm = []\n",
    "\n",
    "for n, m, f in zip(note_names, note_magnitude, note_frequency_Hz):\n",
    "    mndr_nt_fm = calc_note_form_mndr(m, f, DOR_K, time_step)\n",
    "    sizes.append(len(mndr_nt_fm))\n",
    "    print_form_note(n, mndr_nt_fm, note_form_style[1])\n",
    "    \n",
    "    \n",
    "print('const int16_t PAUSE_form_mndr [30] = {0};' ,end = '\\n\\n')\n",
    "    \n",
    "\n",
    "for i, n in enumerate(note_names):\n",
    "    if (i == 0):\n",
    "        print('const int16_t *note_mndr_table[21] =   {' + n + '_form_' + note_form_style[1] + ',')\n",
    "    else:\n",
    "        print(' ' * 40 + n + '_form_' + note_form_style[1] + ',')\n",
    "        \n",
    "print(' ' * 40 + 'PAUSE_form_mndr};', end = '\\n\\n')\n",
    "\n",
    "sizes.append(30)\n",
    "\n",
    "temp_str = str(sizes)\n",
    "temp_str = temp_str.replace('[', '{')\n",
    "temp_str = temp_str.replace(']', '}')\n",
    "print('uint16_t note_form_' + note_form_style[1] +'_size[21] = ' + temp_str + ';')\n"
   ]
  },
  {
   "cell_type": "code",
   "execution_count": null,
   "id": "e36ffc60",
   "metadata": {},
   "outputs": [],
   "source": [
    "ptl.plot(mndr_nt_fm)"
   ]
  },
  {
   "cell_type": "markdown",
   "id": "cc976176",
   "metadata": {},
   "source": [
    "## Calculating the sowtool wave"
   ]
  },
  {
   "cell_type": "code",
   "execution_count": null,
   "id": "1ede8b63",
   "metadata": {},
   "outputs": [],
   "source": [
    "def calc_note_form_trn(note_mug, note_freq, bs, DOR_K, teme_step):\n",
    "    \n",
    "    '''function to calculate the sowtool form for notes'''\n",
    "    \n",
    "    trin_form = np.arange(-1, 1, 2/bs)\n",
    "\n",
    "    trin_form = trin_form * note_mug * DOR_K\n",
    "    \n",
    "    trin_form = trin_form[0: bs]\n",
    "    \n",
    "    return (np.around(trin_form)).astype(int)\n"
   ]
  },
  {
   "cell_type": "code",
   "execution_count": null,
   "id": "a892e402",
   "metadata": {
    "scrolled": false
   },
   "outputs": [],
   "source": [
    "#print array with the sowtool wave in C-format\n",
    "\n",
    "note_magnitude = [0.2, 0.2, 0.2, 0.2, 0.2, 0.2, 0.2, 0.2, 0.2, 0.2, 0.2, 0.2, 0.2, 0.2, 0.2, 0.2, 0.2, 0.2, 0.2, 0.2]\n",
    "buf_sizes = [219, 206, 195, 184, 174, 164, 155, 146, 138, 130, 123, 115, 110, 103, 98, 92, 87, 82, 78, 73, 30]\n",
    "sizes = []\n",
    "trin_nt_fm = []\n",
    "\n",
    "for n, m, f, bs in zip(note_names, note_magnitude, note_frequency_Hz, buf_sizes):\n",
    "    trin_nt_fm = calc_note_form_trn(m, f, bs, DOR_K, time_step)\n",
    "    sizes.append(len(trin_nt_fm))\n",
    "    print_form_note(n, trin_nt_fm, note_form_style[2])\n",
    "    \n",
    "    \n",
    "print('const int16_t PAUSE_form_trin [30] = {0};' ,end = '\\n\\n')\n",
    "    \n",
    "\n",
    "\n",
    "for i, n in enumerate(note_names):\n",
    "    if (i == 0):\n",
    "        print('const int16_t *note_trin_table[21] =   {' + n + '_form_' + note_form_style[2] + ',')\n",
    "    else:\n",
    "        print(' ' * 40 + n + '_form_' + note_form_style[2] + ',')\n",
    "        \n",
    "print(' ' * 40 + 'PAUSE_form_trin};', end = '\\n\\n')\n",
    "\n",
    "sizes.append(30)\n",
    "\n",
    "temp_str = str(sizes)\n",
    "temp_str = temp_str.replace('[', '{')\n",
    "temp_str = temp_str.replace(']', '}')\n",
    "print('uint16_t note_form_' + note_form_style[2] +'_size[21] = ' + temp_str + ';')\n"
   ]
  },
  {
   "cell_type": "code",
   "execution_count": null,
   "id": "91383f29",
   "metadata": {
    "scrolled": true
   },
   "outputs": [],
   "source": [
    "ptl.plot(trin_nt_fm)"
   ]
  },
  {
   "cell_type": "markdown",
   "id": "8caf04b6",
   "metadata": {},
   "source": [
    "## Calculating the gitar samples"
   ]
  },
  {
   "cell_type": "code",
   "execution_count": null,
   "id": "ba321811",
   "metadata": {},
   "outputs": [],
   "source": [
    "def gitar_sampl(note_mug, sampl_form, note_sampl_size):\n",
    "    \n",
    "    '''function to calculate the gitar sample for notes'''\n",
    "    \n",
    "    note_form = []\n",
    "    scale_val = max(sampl_form) / note_mug \n",
    "    \n",
    "    for i in range(0, note_sampl_size):\n",
    "        sampl = sampl_form[i*int(len(sampl_form)/note_sampl_size)]\n",
    "        note_form.append(int(round(sampl / scale_val)))\n",
    "    \n",
    "    return note_form"
   ]
  },
  {
   "cell_type": "code",
   "execution_count": null,
   "id": "929fa81e",
   "metadata": {},
   "outputs": [],
   "source": [
    "#print array with the gitar sample in C-format\n",
    "\n",
    "note_magnitude = [300, 300, 300, 300, 300, 300, 300, 300, 300, 300, 300, 300, 300, 300, 300, 300, 300, 300, 300, 300]\n",
    "buf_sizes = [219, 206, 195, 184, 174, 164, 155, 146, 138, 130, 123, 115, 110, 103, 98, 92, 87, 82, 78, 73, 30]\n",
    "sizes = []\n",
    "gitr_nt_fm = []\n",
    "\n",
    "for n, m, f, bs in zip(note_names, note_magnitude, note_frequency_Hz, buf_sizes):\n",
    "    gitr_nt_fm = gitar_sampl(m, interpolation_data, bs)\n",
    "    sizes.append(len(gitr_nt_fm))\n",
    "    print_form_note(n, gitr_nt_fm, note_form_style[3])\n",
    "    \n",
    "    \n",
    "print('const int16_t PAUSE_form_gitr [30] = {0};' ,end = '\\n\\n')\n",
    "    \n",
    "\n",
    "\n",
    "for i, n in enumerate(note_names):\n",
    "    if (i == 0):\n",
    "        print('const int16_t *note_gitr_table[21] =   {' + n + '_form_' + note_form_style[3] + ',')\n",
    "    else:\n",
    "        print(' ' * 40 + n + '_form_' + note_form_style[3] + ',')\n",
    "        \n",
    "print(' ' * 40 + 'PAUSE_form_gitr};', end = '\\n\\n')\n",
    "\n",
    "sizes.append(30)\n",
    "\n",
    "temp_str = str(sizes)\n",
    "temp_str = temp_str.replace('[', '{')\n",
    "temp_str = temp_str.replace(']', '}')\n",
    "print('uint16_t note_form_' + note_form_style[3] + '_size[21] = ' + temp_str + ';')"
   ]
  },
  {
   "cell_type": "code",
   "execution_count": null,
   "id": "311ad141",
   "metadata": {},
   "outputs": [],
   "source": [
    "ptl.plot(gitr_nt_fm)"
   ]
  }
 ],
 "metadata": {
  "kernelspec": {
   "display_name": "Python 3 (ipykernel)",
   "language": "python",
   "name": "python3"
  },
  "language_info": {
   "codemirror_mode": {
    "name": "ipython",
    "version": 3
   },
   "file_extension": ".py",
   "mimetype": "text/x-python",
   "name": "python",
   "nbconvert_exporter": "python",
   "pygments_lexer": "ipython3",
   "version": "3.11.2"
  }
 },
 "nbformat": 4,
 "nbformat_minor": 5
}
